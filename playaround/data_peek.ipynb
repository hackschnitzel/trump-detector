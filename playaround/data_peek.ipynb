{
 "cells": [
  {
   "cell_type": "code",
   "execution_count": 1,
   "metadata": {},
   "outputs": [
    {
     "name": "stderr",
     "output_type": "stream",
     "text": [
      "/Users/p.wolfram/hackzurich/trump-detector/.venv/lib/python3.6/site-packages/sklearn/preprocessing/label.py:151: DeprecationWarning: The truth value of an empty array is ambiguous. Returning False, but in future this will result in an error. Use `array.size > 0` to check that an array is not empty.\n",
      "  if diff:\n",
      "/Users/p.wolfram/hackzurich/trump-detector/.venv/lib/python3.6/site-packages/sklearn/preprocessing/label.py:151: DeprecationWarning: The truth value of an empty array is ambiguous. Returning False, but in future this will result in an error. Use `array.size > 0` to check that an array is not empty.\n",
      "  if diff:\n"
     ]
    },
    {
     "data": {
      "text/plain": [
       "array([[318,  15],\n",
       "       [ 27, 274]])"
      ]
     },
     "execution_count": 1,
     "metadata": {},
     "output_type": "execute_result"
    }
   ],
   "source": [
    "import pandas as pd\n",
    "from sklearn.feature_extraction.text import CountVectorizer\n",
    "from sklearn.feature_extraction.text import TfidfVectorizer\n",
    "from sklearn.ensemble import RandomForestClassifier\n",
    "from sklearn.ensemble import VotingClassifier\n",
    "from sklearn.linear_model import LogisticRegression\n",
    "from sklearn.model_selection import train_test_split\n",
    "from sklearn.neighbors import KNeighborsClassifier\n",
    "from sklearn.neural_network import MLPClassifier\n",
    "from sklearn.pipeline import Pipeline, FeatureUnion\n",
    "from sklearn.base import BaseEstimator, TransformerMixin\n",
    "from sklearn.metrics import confusion_matrix\n",
    "from sklearn.externals import joblib\n",
    "\n",
    "df = pd.read_csv(\"../data/fake_or_real_news.csv\")\n",
    "df.drop('Unnamed: 0', axis = 1, inplace = True)\n",
    "X = df.drop('label', axis = 1)\n",
    "y = df['label']\n",
    "df.head(5)\n",
    "\n",
    "df[\"label\"].value_counts()\n",
    "\n",
    "df.describe()\n",
    "\n",
    "X_train, X_test, y_train, y_test = train_test_split(X, y, test_size = 0.1, random_state = 105)\n",
    "\n",
    "class Selector (BaseEstimator, TransformerMixin):\n",
    "    def __init__(self, cols):\n",
    "        self.cols = cols\n",
    "    \n",
    "    def fit(self, X, y = None):\n",
    "        return self\n",
    "    \n",
    "    def transform(self, X):\n",
    "        return X[self.cols]\n",
    "\n",
    "pipeline_text = Pipeline(steps=[('select1', Selector('text')),\n",
    "                               ('tf1', CountVectorizer())])\n",
    "pipeline_title = Pipeline(steps=[('select2', Selector('title')),\n",
    "                                ('tf2', CountVectorizer())])\n",
    "\n",
    "pipeline_text_tfidf = Pipeline(steps=[('select1', Selector('text')),\n",
    "                               ('tf1', TfidfVectorizer())])\n",
    "pipeline_title_tfidf = Pipeline(steps=[('select2', Selector('title')),\n",
    "                                ('tf2', TfidfVectorizer())])\n",
    "\n",
    "fu = FeatureUnion(n_jobs=2,\n",
    "                  transformer_list=\n",
    "                  [('p1', pipeline_text_tfidf),\n",
    "                   ('p2', pipeline_title_tfidf)])\n",
    "\n",
    "knn = KNeighborsClassifier()\n",
    "lr = LogisticRegression()\n",
    "nn = MLPClassifier(hidden_layer_sizes=[5, 10])\n",
    "\n",
    "pipeline_all = Pipeline(steps=[('etl', fu),\n",
    "                                ('classifier', VotingClassifier([\n",
    "                                    ('knn',knn),\n",
    "                                    ('lr', lr),\n",
    "                                    ('nn', nn)], voting='soft'))])\n",
    "\n",
    "pipeline_fitted = pipeline_all.fit(X_train, y_train)\n",
    "y_pred = pipeline_fitted.predict(X_test)\n",
    "\n",
    "y_pred[:5]\n",
    "\n",
    "confusion_matrix(y_test, y_pred)\n",
    "\n",
    "joblib.dump(pipeline_fitted, 'ens.pkl')\n",
    "\n",
    "confusion_matrix(y_test, joblib.load('ens.pkl').predict(X_test))"
   ]
  }
 ],
 "metadata": {
  "kernelspec": {
   "display_name": "Python 3",
   "language": "python",
   "name": "python3"
  },
  "language_info": {
   "codemirror_mode": {
    "name": "ipython",
    "version": 3
   },
   "file_extension": ".py",
   "mimetype": "text/x-python",
   "name": "python",
   "nbconvert_exporter": "python",
   "pygments_lexer": "ipython3",
   "version": "3.6.6"
  }
 },
 "nbformat": 4,
 "nbformat_minor": 2
}
